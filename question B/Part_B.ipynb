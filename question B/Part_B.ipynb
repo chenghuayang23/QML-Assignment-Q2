{
 "cells": [
  {
   "cell_type": "code",
   "execution_count": 3,
   "metadata": {},
   "outputs": [],
   "source": [
    "from gurobipy import *\n",
    "import numpy as np\n",
    "import pandas as pd\n",
    "import math\n",
    "import plotly.graph_objects as go"
   ]
  },
  {
   "cell_type": "code",
   "execution_count": 6,
   "metadata": {},
   "outputs": [
    {
     "data": {
      "text/html": [
       "<div>\n",
       "<style scoped>\n",
       "    .dataframe tbody tr th:only-of-type {\n",
       "        vertical-align: middle;\n",
       "    }\n",
       "\n",
       "    .dataframe tbody tr th {\n",
       "        vertical-align: top;\n",
       "    }\n",
       "\n",
       "    .dataframe thead th {\n",
       "        text-align: right;\n",
       "    }\n",
       "</style>\n",
       "<table border=\"1\" class=\"dataframe\">\n",
       "  <thead>\n",
       "    <tr style=\"text-align: right;\">\n",
       "      <th></th>\n",
       "      <th>LOC_ID</th>\n",
       "      <th>XCOORD</th>\n",
       "      <th>YCOORD</th>\n",
       "      <th>DEMAND</th>\n",
       "      <th>READYTIME</th>\n",
       "      <th>DUETIME</th>\n",
       "      <th>SERVICETIME</th>\n",
       "    </tr>\n",
       "  </thead>\n",
       "  <tbody>\n",
       "    <tr>\n",
       "      <th>0</th>\n",
       "      <td>0</td>\n",
       "      <td>40</td>\n",
       "      <td>50</td>\n",
       "      <td>0</td>\n",
       "      <td>0</td>\n",
       "      <td>1236</td>\n",
       "      <td>0</td>\n",
       "    </tr>\n",
       "    <tr>\n",
       "      <th>1</th>\n",
       "      <td>1</td>\n",
       "      <td>42</td>\n",
       "      <td>66</td>\n",
       "      <td>20</td>\n",
       "      <td>65</td>\n",
       "      <td>146</td>\n",
       "      <td>90</td>\n",
       "    </tr>\n",
       "    <tr>\n",
       "      <th>2</th>\n",
       "      <td>2</td>\n",
       "      <td>42</td>\n",
       "      <td>65</td>\n",
       "      <td>20</td>\n",
       "      <td>15</td>\n",
       "      <td>67</td>\n",
       "      <td>90</td>\n",
       "    </tr>\n",
       "    <tr>\n",
       "      <th>3</th>\n",
       "      <td>3</td>\n",
       "      <td>40</td>\n",
       "      <td>69</td>\n",
       "      <td>20</td>\n",
       "      <td>621</td>\n",
       "      <td>702</td>\n",
       "      <td>90</td>\n",
       "    </tr>\n",
       "    <tr>\n",
       "      <th>4</th>\n",
       "      <td>4</td>\n",
       "      <td>38</td>\n",
       "      <td>68</td>\n",
       "      <td>20</td>\n",
       "      <td>255</td>\n",
       "      <td>324</td>\n",
       "      <td>90</td>\n",
       "    </tr>\n",
       "    <tr>\n",
       "      <th>5</th>\n",
       "      <td>5</td>\n",
       "      <td>38</td>\n",
       "      <td>70</td>\n",
       "      <td>10</td>\n",
       "      <td>534</td>\n",
       "      <td>605</td>\n",
       "      <td>90</td>\n",
       "    </tr>\n",
       "    <tr>\n",
       "      <th>6</th>\n",
       "      <td>6</td>\n",
       "      <td>41</td>\n",
       "      <td>51</td>\n",
       "      <td>30</td>\n",
       "      <td>448</td>\n",
       "      <td>505</td>\n",
       "      <td>90</td>\n",
       "    </tr>\n",
       "  </tbody>\n",
       "</table>\n",
       "</div>"
      ],
      "text/plain": [
       "   LOC_ID  XCOORD  YCOORD  DEMAND  READYTIME  DUETIME  SERVICETIME\n",
       "0       0      40      50       0          0     1236            0\n",
       "1       1      42      66      20         65      146           90\n",
       "2       2      42      65      20         15       67           90\n",
       "3       3      40      69      20        621      702           90\n",
       "4       4      38      68      20        255      324           90\n",
       "5       5      38      70      10        534      605           90\n",
       "6       6      41      51      30        448      505           90"
      ]
     },
     "execution_count": 6,
     "metadata": {},
     "output_type": "execute_result"
    }
   ],
   "source": [
    "# import data\n",
    "file_path = \"./data_small.txt\"\n",
    "colnames = ['LOC_ID', 'XCOORD', 'YCOORD', 'DEMAND', 'READYTIME', 'DUETIME', 'SERVICETIME']\n",
    "data = pd.read_csv(file_path, names=colnames, delimiter='\\t')\n",
    "data"
   ]
  },
  {
   "cell_type": "code",
   "execution_count": 12,
   "metadata": {},
   "outputs": [],
   "source": [
    "# given parameters \n",
    "loc_id = list(data['LOC_ID'])\n",
    "xcoord = list(data['XCOORD'])\n",
    "ycoord = list(data['YCOORD'])\n",
    "readytime = list(data['READYTIME'])\n",
    "duetime = list(data['DUETIME'])\n",
    "servetime = list(data['SERVICETIME'])\n",
    "\n",
    "# sets of nodes\n",
    "N = len(loc_id)\n",
    "\n",
    "# matrix of distance from i to j\n",
    "distance = []\n",
    "for i in range(N):\n",
    "    d_i = []  \n",
    "    d = 0 \n",
    "    for j in range(N):\n",
    "        d = math.sqrt((xcoord[i]-xcoord[j])**2 + (ycoord[i]-ycoord[j])**2)\n",
    "        d_i.append(d)\n",
    "    distance.append(d_i)"
   ]
  },
  {
   "cell_type": "code",
   "execution_count": null,
   "metadata": {},
   "outputs": [],
   "source": [
    "# Start modelling optimization problem (author: ayton)\n",
    "m = Model('TSPproblem')\n",
    "\n",
    "# Variables"
   ]
  },
  {
   "cell_type": "markdown",
   "metadata": {},
   "source": [
    "note: These code is used to set time constrain for large input, while you are writing, you can ignore this cell"
   ]
  },
  {
   "cell_type": "code",
   "execution_count": null,
   "metadata": {},
   "outputs": [],
   "source": [
    "m.update()\n",
    "# m.write('test.lp')\n",
    "# Set time constraint for optimization (5minutes)\n",
    "# m.setParam('TimeLimit', 5 * 60)\n",
    "# Set gap constraint for optimisation\n",
    "# m.setParam('MIPgap', 0.0003)\n",
    "\n",
    "m.optimize()\n",
    "# m.write(\"testout.sol\")\n",
    "status = m.status\n",
    "\n",
    "if status == GRB.Status.UNBOUNDED:\n",
    "    print('The model cannot be solved because it is unbounded')\n",
    "\n",
    "elif status == GRB.Status.OPTIMAL or True:\n",
    "    f_objective = m.objVal\n",
    "    print('***** RESULTS ******')\n",
    "    print('\\nObjective Function Value: \\t %g' % f_objective)\n",
    "\n",
    "elif status != GRB.Status.INF_OR_UNBD and status != GRB.Status.INFEASIBLE:\n",
    "    print('Optimization was stopped with status %d' % status)"
   ]
  },
  {
   "cell_type": "code",
   "execution_count": null,
   "metadata": {},
   "outputs": [],
   "source": [
    "# Print out solutions(auther: Yuteng)"
   ]
  }
 ],
 "metadata": {
  "kernelspec": {
   "display_name": "Python 3.9.13 ('GurobiLP')",
   "language": "python",
   "name": "python3"
  },
  "language_info": {
   "codemirror_mode": {
    "name": "ipython",
    "version": 3
   },
   "file_extension": ".py",
   "mimetype": "text/x-python",
   "name": "python",
   "nbconvert_exporter": "python",
   "pygments_lexer": "ipython3",
   "version": "3.9.15"
  },
  "orig_nbformat": 4,
  "vscode": {
   "interpreter": {
    "hash": "8bc8e597c6bc8974cbf07d9a62fdb4a42bb382582c92709deccd19b95a62c256"
   }
  }
 },
 "nbformat": 4,
 "nbformat_minor": 2
}
